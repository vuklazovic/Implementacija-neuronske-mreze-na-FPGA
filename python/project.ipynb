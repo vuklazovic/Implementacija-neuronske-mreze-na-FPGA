{
 "cells": [
  {
   "cell_type": "code",
   "execution_count": 3,
   "metadata": {},
   "outputs": [
    {
     "name": "stdout",
     "output_type": "stream",
     "text": [
      "Acc: 85.93%\n",
      "Acc: 92.37%\n",
      "Acc: 93.35%\n"
     ]
    }
   ],
   "source": [
    "\n",
    "from data import get_mnist\n",
    "import numpy as np\n",
    "import matplotlib.pyplot as plt\n",
    "import sys\n",
    "import numpy\n",
    "images, labels = get_mnist()\n",
    "w_i_h = np.random.uniform(-0.5, 0.5, (20, 784))\n",
    "w_h_o = np.random.uniform(-0.5, 0.5, (10, 20))\n",
    "b_i_h = np.zeros((20, 1))\n",
    "b_h_o = np.zeros((10, 1))\n",
    "learn_rate = 0.01\n",
    "nr_correct = 0\n",
    "epochs = 3\n",
    "for epoch in range(epochs):\n",
    "    for img, l in zip(images, labels):\n",
    "        img.shape += (1,)\n",
    "        l.shape += (1,)\n",
    "        h_pre = b_i_h + w_i_h @ img\n",
    "        h = 1 / (1 + np.exp(-h_pre))\n",
    "        o_pre = b_h_o + w_h_o @ h\n",
    "        o = 1 / (1 + np.exp(-o_pre))\n",
    "        e = 1 / len(o) * np.sum((o - l) ** 2, axis=0)\n",
    "        nr_correct += int(np.argmax(o) == np.argmax(l))\n",
    "        delta_o = o - l\n",
    "        w_h_o += -learn_rate * delta_o @ np.transpose(h)\n",
    "        b_h_o += -learn_rate * delta_o\n",
    "        delta_h = np.transpose(w_h_o) @ delta_o * (h * (1 - h))\n",
    "        w_i_h += -learn_rate * delta_h @ np.transpose(img)\n",
    "        b_i_h += -learn_rate * delta_h\n",
    "    print(f\"Acc: {round((nr_correct / images.shape[0]) * 100, 2)}%\")\n",
    "    nr_correct = 0"
   ]
  },
  {
   "cell_type": "code",
   "execution_count": 9,
   "metadata": {},
   "outputs": [],
   "source": [
    "from PIL import Image\n",
    "param=100\n",
    "def prepare_real_photo(path):\n",
    "    img = Image.open(path)\n",
    "    img = img.convert(\"L\")\n",
    "    img=img.resize((28,28),Image.BOX)\n",
    "    pix = img.load()\n",
    "    lis=[]\n",
    "    width, height = img.size\n",
    "    for y in range(height):\n",
    "        for x in range(width):\n",
    "            # print(pix[x,y],end=\" \")\n",
    "            if(pix[x,y]>158):pix[x,y]=(255)\n",
    "            else :pix[x,y]=(0)\n",
    "\n",
    "\n",
    "\n",
    "    for i in range(height):\n",
    "        for j in range(width):\n",
    "            # print(pix[i,j])\n",
    "            if(0 == pix[j,i]) :lis.append(1)\n",
    "            else: \n",
    "                lis.append(0)\n",
    "    numpy_arr=np.array(lis)\n",
    "    img=numpy_arr\n",
    "    img.shape += (1,)\n",
    "    img=img.reshape(784, 1)\n",
    "    img=(img*param).astype('int')\n",
    "    return numpy_arr"
   ]
  },
  {
   "cell_type": "code",
   "execution_count": 31,
   "metadata": {},
   "outputs": [
    {
     "name": "stdout",
     "output_type": "stream",
     "text": [
      "hidden layer = 20\n",
      "hidden layer = 10\n",
      "[0, 0, 0, 0, 0, 0, 0, 0, 0, 100]\n"
     ]
    },
    {
     "data": {
      "image/png": "[encoded data removed]",
      "text/plain": [
       "<Figure size 640x480 with 1 Axes>"
      ]
     },
     "metadata": {},
     "output_type": "display_data"
    }
   ],
   "source": [
    "\n",
    "import math\n",
    "param=100\n",
    "b_i_h_int=(b_i_h*param).astype('int')\n",
    "w_i_h_int=(w_i_h*param).astype('int')\n",
    "b_h_o_int=(b_h_o*param).astype('int')\n",
    "w_h_o_int=(w_h_o*param).astype('int')\n",
    "def sigmoid(x):\n",
    "    if(x<-6) :return 0\n",
    "    if(x>37) : return 1\n",
    "    return 1 / (1 + math.exp(-x))\n",
    "\n",
    "def convert_to_list_1D(arr):\n",
    "    lista=[]\n",
    "    lista_listi=arr.tolist()\n",
    "    for i in lista_listi:\n",
    "        lista.append(i[0])\n",
    "    return lista\n",
    "def convert_to_list_2D(arr):\n",
    "    l=[]\n",
    "    for i in arr:\n",
    "        l.append(i.tolist())\n",
    "    return l\n",
    "def prepare_img():\n",
    "    index = int(random.random()*23523%31251)\n",
    "    img = images[index]\n",
    "    #img=prepare_real_photo(\"real_croped.bmp\")\n",
    "    img.shape += (1,)\n",
    "    img=img.reshape(784, 1)\n",
    "    img=(img*param).astype('int')\n",
    "    return img\n",
    "def activation(lista):\n",
    "    new_list=[]\n",
    "    for i in lista:\n",
    "        #print(i)\n",
    "        new_list.append(int(sigmoid(i)*100))\n",
    "    return new_list\n",
    "    \n",
    "img=prepare_img()\n",
    "img_list=convert_to_list_1D(img)\n",
    "b_i_h_list=convert_to_list_1D(b_i_h_int)\n",
    "b_h_o_list=convert_to_list_1D(b_h_o_int)\n",
    "\n",
    "w_i_h_list=convert_to_list_2D(w_i_h_int)\n",
    "w_h_o_list=convert_to_list_2D(w_h_o_int)\n",
    "\n",
    "def compute_layer(img,weight,bias):\n",
    "    hidden_layer=[]\n",
    "    for i,bias in zip(weight,bias):\n",
    "        number=0\n",
    "        for j,z in zip(i,img):\n",
    "            number+=j*z\n",
    "        number+=bias\n",
    "        hidden_layer.append(number)\n",
    "        \n",
    "    print(\"hidden layer =\",len(hidden_layer))\n",
    "    return hidden_layer\n",
    "\n",
    "        \n",
    "\n",
    "\n",
    "lista=compute_layer(img_list,w_i_h_list,b_i_h_list)\n",
    "act=activation(lista)\n",
    "lista=compute_layer(act,w_h_o_list,b_h_o_list)\n",
    "act=activation(lista)\n",
    "\n",
    "print(act)\n",
    "plt.imshow(img.reshape(28, 28), cmap=\"Greys\")\n",
    "plt.title(f\" it is a {act.index(max(act))} :)\")\n",
    "plt.show()\n"
   ]
  },
  {
   "cell_type": "code",
   "execution_count": 32,
   "metadata": {},
   "outputs": [
    {
     "name": "stdout",
     "output_type": "stream",
     "text": [
      "reg signed [31:0] img [0:783] = '{0,0,0,0,0,0,0,0,0,0,0,0,0,0,0,0,0,0,0,0,0,0,0,0,0,0,0,0,0,0,0,0,0,0,0,0,0,0,0,0,0,0,0,0,0,0,0,0,0,0,0,0,0,0,0,0,0,0,0,0,0,0,0,0,0,0,0,0,0,0,0,0,0,0,0,0,0,0,0,0,0,0,0,0,0,0,0,0,0,0,0,0,0,0,0,0,0,0,0,0,0,0,0,0,0,0,0,0,0,0,0,0,0,0,0,0,0,0,0,0,0,0,0,0,0,0,0,0,0,0,0,0,0,0,0,0,0,0,0,0,0,0,0,0,0,0,0,0,0,0,0,0,0,0,0,0,0,0,0,0,0,0,0,0,0,0,0,0,0,0,0,0,0,0,0,0,0,0,0,0,0,0,0,5,61,98,90,21,0,0,0,0,0,0,0,0,0,0,0,0,0,0,0,0,0,0,0,0,0,0,31,81,99,99,90,19,0,0,0,0,0,0,0,0,0,0,0,0,0,0,0,0,0,0,0,0,0,24,94,92,29,10,97,65,0,0,0,0,0,0,0,0,0,0,0,0,0,0,0,0,0,0,0,0,16,94,78,11,0,0,41,65,0,0,0,0,0,0,0,0,0,0,0,0,0,0,0,0,0,0,0,13,84,71,6,0,0,0,32,76,1,0,0,0,0,0,0,0,0,0,0,0,0,0,0,0,0,0,1,65,93,36,0,0,0,0,56,99,31,0,0,0,0,0,0,0,0,0,0,0,0,0,0,0,0,0,33,94,38,0,0,0,0,45,98,86,8,0,0,0,0,0,0,0,0,0,0,0,0,0,0,0,0,14,94,50,0,0,0,0,37,98,99,60,0,0,0,0,0,0,0,0,0,0,0,0,0,0,0,0,0,66,85,0,0,0,0,45,98,100,99,18,0,0,0,0,0,0,0,0,0,0,0,0,0,0,0,0,32,96,7,0,0,10,76,99,72,98,73,0,0,0,0,0,0,0,0,0,0,0,0,0,0,0,0,0,81,71,0,5,45,83,99,32,9,96,24,0,0,0,0,0,0,0,0,0,0,0,0,0,0,0,0,12,96,48,39,83,99,87,18,0,28,93,6,0,0,0,0,0,0,0,0,0,0,0,0,0,0,0,0,52,99,99,99,95,65,4,0,0,69,83,0,0,0,0,0,0,0,0,0,0,0,0,0,0,0,0,0,24,89,90,54,19,0,0,0,1,84,50,0,0,0,0,0,0,0,0,0,0,0,0,0,0,0,0,0,0,0,0,0,0,0,0,0,18,99,18,0,0,0,0,0,0,0,0,0,0,0,0,0,0,0,0,0,0,0,0,0,0,0,0,0,50,99,4,0,0,0,0,0,0,0,0,0,0,0,0,0,0,0,0,0,0,0,0,0,0,0,0,0,69,80,1,0,0,0,0,0,0,0,0,0,0,0,0,0,0,0,0,0,0,0,0,0,0,0,0,1,95,65,0,0,0,0,0,0,0,0,0,0,0,0,0,0,0,0,0,0,0,0,0,0,0,0,0,23,99,33,0,0,0,0,0,0,0,0,0,0,0,0,0,0,0,0,0,0,0,0,0,0,0,0,0,32,87,12,0,0,0,0,0,0,0,0,0,0,0,0,0,0,0,0,0,0,0,0,0,0,0,0,0,0,0,0,0,0,0,0,0,0,0,0,0,0,0,0,0,0,0,0,0,0,0,0,0,0,0,0,0,0,0,0,0,0,0,0,0,0,0,0,0,0,0};\n"
     ]
    }
   ],
   "source": [
    "def prepare_img_for_verilog():\n",
    "    print(\"reg signed [31:0] img [0:783] = '{\",end=\"\")\n",
    "    count=0\n",
    "    for i in img_list:\n",
    "        count+=1\n",
    "        if(count==len(img_list)):print(i,end=\"\")\n",
    "        else:print(i,end=',')\n",
    "    print(\"};\")\n",
    "prepare_img_for_verilog()"
   ]
  }
 ],
 "metadata": {
  "kernelspec": {
   "display_name": "Python 3",
   "language": "python",
   "name": "python3"
  },
  "language_info": {
   "codemirror_mode": {
    "name": "ipython",
    "version": 3
   },
   "file_extension": ".py",
   "mimetype": "text/x-python",
   "name": "python",
   "nbconvert_exporter": "python",
   "pygments_lexer": "ipython3",
   "version": "3.11.4"
  },
  "orig_nbformat": 4
 },
 "nbformat": 4,
 "nbformat_minor": 2
}
